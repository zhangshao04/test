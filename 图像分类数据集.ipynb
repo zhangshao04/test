{
 "cells": [
  {
   "cell_type": "code",
   "execution_count": 1,
   "metadata": {},
   "outputs": [],
   "source": [
    "%matplotlib inline\n",
    "import torch\n",
    "import torchvision\n",
    "from torch.utils import data\n",
    "from torchvision import transforms\n",
    "from d2l import torch as d2l\n",
    "\n",
    "d2l.use_svg_display()"
   ]
  },
  {
   "cell_type": "code",
   "execution_count": 2,
   "metadata": {},
   "outputs": [
    {
     "name": "stdout",
     "output_type": "stream",
     "text": [
      "60000 10000\n"
     ]
    },
    {
     "data": {
      "text/plain": [
       "torch.Size([1, 28, 28])"
      ]
     },
     "execution_count": 2,
     "metadata": {},
     "output_type": "execute_result"
    }
   ],
   "source": [
    "trans = transforms.ToTensor()\n",
    "mnist_train = torchvision.datasets.FashionMNIST(root=\"../data/\",train=True,transform=trans,download=True)\n",
    "mnist_test = torchvision.datasets.FashionMNIST(root=\"../data/\",train=False,transform=trans,download=True)\n",
    "print(len(mnist_train),len(mnist_test))\n",
    "mnist_train[0][0].shape"
   ]
  },
  {
   "cell_type": "markdown",
   "metadata": {},
   "source": [
    "transforms.ToTensor():将图像数据转为tensor，并归一化至[0-1]\n",
    "torchvision.datasets : ⼀些加载数据的函数及常⽤的数据集接⼝；\n",
    "torchvision.transforms : 常⽤的图⽚变换，例如裁剪、旋转等；"
   ]
  },
  {
   "cell_type": "code",
   "execution_count": 1,
   "metadata": {},
   "outputs": [],
   "source": [
    "def get_fashion_mnist_labels(labels):     #@save\n",
    "    \"\"\"\"返回Fashion-Mnist数据集的文本标签\"\"\"\n",
    "    text_labels = ['t-shirts','trouser','pullover','dress','coat','sandal','shirt','sneaker','bag','ankle boot']#[ , ,套衫, , ,凉鞋, ,运动鞋, ,裸靴]\n",
    "    return [text_labels[int(i)] for i in labels]"
   ]
  },
  {
   "cell_type": "code",
   "execution_count": 5,
   "metadata": {},
   "outputs": [],
   "source": [
    "def show_images(imgs,num_rows,num_cols,titles = None,scale = 1):  #@save\n",
    "    \"\"\"\"绘制图像列表\"\"\"\n",
    "    figsize = (num_cols * scale,num_rows * scale)\n",
    "    \n",
    "    _,axes = d2l.plt.subplot(num_rows,num_cols,figsize)\n",
    "    axes = axes.flatten()\n",
    "    for i,(ax,img) in enumerate(zip(axes,imgs)):\n",
    "        if torch.is_tensor(img):\n",
    "            #图片张量\n",
    "            ax.imshow(img.numpy())\n",
    "        else:\n",
    "            #PIL图片\n",
    "            ax.imshow(img)\n",
    "        ax.axes.get_xaxis().set_visible(False)\n",
    "        ax.axes.get_yaxis().set_visible(False)\n",
    "        if titles:\n",
    "            ax.set_title(titles[i])\n",
    "    return axes"
   ]
  },
  {
   "cell_type": "markdown",
   "metadata": {},
   "source": [
    "subplot(nrows, ncols, index, **kwargs)，一般我们只用到前三个参数，将整个绘图区域分成 nrows 行和 ncols 列，而 index 用于对子图进行编号。\n",
    "enumerate() 函数:遍历一个集合对象，在遍历的同时还可以得到当前元素的索引位置\n",
    "zip()函数可以接收多个可迭代对象，然后把每个可迭代对象中的第i个元素组合在一起，形成一个新的迭代器，类型为元组。\n",
    "flatten()数组降维"
   ]
  },
  {
   "cell_type": "code",
   "execution_count": 8,
   "metadata": {},
   "outputs": [
    {
     "ename": "IndexError",
     "evalue": "GridSpec slice would result in no space allocated for subplot",
     "output_type": "error",
     "traceback": [
      "\u001b[1;31m---------------------------------------------------------------------------\u001b[0m",
      "\u001b[1;31mIndexError\u001b[0m                                Traceback (most recent call last)",
      "\u001b[1;32me:\\python3\\pytorchCode\\图像分类数据集.ipynb 单元格 7\u001b[0m line \u001b[0;36m2\n\u001b[0;32m      <a href='vscode-notebook-cell:/e%3A/python3/pytorchCode/%E5%9B%BE%E5%83%8F%E5%88%86%E7%B1%BB%E6%95%B0%E6%8D%AE%E9%9B%86.ipynb#W6sZmlsZQ%3D%3D?line=0'>1</a>\u001b[0m X,y \u001b[39m=\u001b[39m \u001b[39mnext\u001b[39m(\u001b[39miter\u001b[39m(data\u001b[39m.\u001b[39mDataLoader(mnist_train,batch_size\u001b[39m=\u001b[39m\u001b[39m18\u001b[39m)))\n\u001b[1;32m----> <a href='vscode-notebook-cell:/e%3A/python3/pytorchCode/%E5%9B%BE%E5%83%8F%E5%88%86%E7%B1%BB%E6%95%B0%E6%8D%AE%E9%9B%86.ipynb#W6sZmlsZQ%3D%3D?line=1'>2</a>\u001b[0m show_images(X\u001b[39m.\u001b[39;49mreshape(\u001b[39m18\u001b[39;49m,\u001b[39m28\u001b[39;49m,\u001b[39m28\u001b[39;49m),\u001b[39m2\u001b[39;49m,\u001b[39m9\u001b[39;49m,titles\u001b[39m=\u001b[39;49mget_fashion_mnist_labels(y))\n",
      "\u001b[1;32me:\\python3\\pytorchCode\\图像分类数据集.ipynb 单元格 7\u001b[0m line \u001b[0;36m4\n\u001b[0;32m      <a href='vscode-notebook-cell:/e%3A/python3/pytorchCode/%E5%9B%BE%E5%83%8F%E5%88%86%E7%B1%BB%E6%95%B0%E6%8D%AE%E9%9B%86.ipynb#W6sZmlsZQ%3D%3D?line=1'>2</a>\u001b[0m \u001b[39m\u001b[39m\u001b[39m\"\"\"\"绘制图像列表\"\"\"\u001b[39;00m\n\u001b[0;32m      <a href='vscode-notebook-cell:/e%3A/python3/pytorchCode/%E5%9B%BE%E5%83%8F%E5%88%86%E7%B1%BB%E6%95%B0%E6%8D%AE%E9%9B%86.ipynb#W6sZmlsZQ%3D%3D?line=2'>3</a>\u001b[0m figsize \u001b[39m=\u001b[39m (num_cols \u001b[39m*\u001b[39m scale,num_rows \u001b[39m*\u001b[39m scale)\n\u001b[1;32m----> <a href='vscode-notebook-cell:/e%3A/python3/pytorchCode/%E5%9B%BE%E5%83%8F%E5%88%86%E7%B1%BB%E6%95%B0%E6%8D%AE%E9%9B%86.ipynb#W6sZmlsZQ%3D%3D?line=3'>4</a>\u001b[0m _,axes \u001b[39m=\u001b[39m d2l\u001b[39m.\u001b[39;49mplt\u001b[39m.\u001b[39;49msubplot(num_rows,num_cols,figsize)\n\u001b[0;32m      <a href='vscode-notebook-cell:/e%3A/python3/pytorchCode/%E5%9B%BE%E5%83%8F%E5%88%86%E7%B1%BB%E6%95%B0%E6%8D%AE%E9%9B%86.ipynb#W6sZmlsZQ%3D%3D?line=4'>5</a>\u001b[0m axes \u001b[39m=\u001b[39m axes\u001b[39m.\u001b[39mflatten()\n\u001b[0;32m      <a href='vscode-notebook-cell:/e%3A/python3/pytorchCode/%E5%9B%BE%E5%83%8F%E5%88%86%E7%B1%BB%E6%95%B0%E6%8D%AE%E9%9B%86.ipynb#W6sZmlsZQ%3D%3D?line=5'>6</a>\u001b[0m \u001b[39mfor\u001b[39;00m i,(ax,img) \u001b[39min\u001b[39;00m \u001b[39menumerate\u001b[39m(\u001b[39mzip\u001b[39m(axes,imgs)):\n",
      "File \u001b[1;32me:\\python3\\Anaconda3\\envs\\pytorchEnv\\lib\\site-packages\\matplotlib\\pyplot.py:1268\u001b[0m, in \u001b[0;36msubplot\u001b[1;34m(*args, **kwargs)\u001b[0m\n\u001b[0;32m   1265\u001b[0m fig \u001b[39m=\u001b[39m gcf()\n\u001b[0;32m   1267\u001b[0m \u001b[39m# First, search for an existing subplot with a matching spec.\u001b[39;00m\n\u001b[1;32m-> 1268\u001b[0m key \u001b[39m=\u001b[39m SubplotSpec\u001b[39m.\u001b[39;49m_from_subplot_args(fig, args)\n\u001b[0;32m   1270\u001b[0m \u001b[39mfor\u001b[39;00m ax \u001b[39min\u001b[39;00m fig\u001b[39m.\u001b[39maxes:\n\u001b[0;32m   1271\u001b[0m     \u001b[39m# if we found an axes at the position sort out if we can re-use it\u001b[39;00m\n\u001b[0;32m   1272\u001b[0m     \u001b[39mif\u001b[39;00m \u001b[39mhasattr\u001b[39m(ax, \u001b[39m'\u001b[39m\u001b[39mget_subplotspec\u001b[39m\u001b[39m'\u001b[39m) \u001b[39mand\u001b[39;00m ax\u001b[39m.\u001b[39mget_subplotspec() \u001b[39m==\u001b[39m key:\n\u001b[0;32m   1273\u001b[0m         \u001b[39m# if the user passed no kwargs, re-use\u001b[39;00m\n",
      "File \u001b[1;32me:\\python3\\Anaconda3\\envs\\pytorchEnv\\lib\\site-packages\\matplotlib\\gridspec.py:611\u001b[0m, in \u001b[0;36mSubplotSpec._from_subplot_args\u001b[1;34m(figure, args)\u001b[0m\n\u001b[0;32m    608\u001b[0m         \u001b[39mraise\u001b[39;00m \u001b[39mValueError\u001b[39;00m(\n\u001b[0;32m    609\u001b[0m             \u001b[39mf\u001b[39m\u001b[39m\"\u001b[39m\u001b[39mnum must be 1 <= num <= \u001b[39m\u001b[39m{\u001b[39;00mrows\u001b[39m*\u001b[39mcols\u001b[39m}\u001b[39;00m\u001b[39m, not \u001b[39m\u001b[39m{\u001b[39;00mnum\u001b[39m!r}\u001b[39;00m\u001b[39m\"\u001b[39m)\n\u001b[0;32m    610\u001b[0m     i \u001b[39m=\u001b[39m j \u001b[39m=\u001b[39m num\n\u001b[1;32m--> 611\u001b[0m \u001b[39mreturn\u001b[39;00m gs[i\u001b[39m-\u001b[39;49m\u001b[39m1\u001b[39;49m:j]\n",
      "File \u001b[1;32me:\\python3\\Anaconda3\\envs\\pytorchEnv\\lib\\site-packages\\matplotlib\\gridspec.py:260\u001b[0m, in \u001b[0;36mGridSpecBase.__getitem__\u001b[1;34m(self, key)\u001b[0m\n\u001b[0;32m    256\u001b[0m     num1, num2 \u001b[39m=\u001b[39m np\u001b[39m.\u001b[39mravel_multi_index(\n\u001b[0;32m    257\u001b[0m         [_normalize(k1, nrows, \u001b[39m0\u001b[39m), _normalize(k2, ncols, \u001b[39m1\u001b[39m)],\n\u001b[0;32m    258\u001b[0m         (nrows, ncols))\n\u001b[0;32m    259\u001b[0m \u001b[39melse\u001b[39;00m:  \u001b[39m# Single key\u001b[39;00m\n\u001b[1;32m--> 260\u001b[0m     num1, num2 \u001b[39m=\u001b[39m _normalize(key, nrows \u001b[39m*\u001b[39;49m ncols, \u001b[39mNone\u001b[39;49;00m)\n\u001b[0;32m    262\u001b[0m \u001b[39mreturn\u001b[39;00m SubplotSpec(\u001b[39mself\u001b[39m, num1, num2)\n",
      "File \u001b[1;32me:\\python3\\Anaconda3\\envs\\pytorchEnv\\lib\\site-packages\\matplotlib\\gridspec.py:237\u001b[0m, in \u001b[0;36mGridSpecBase.__getitem__.<locals>._normalize\u001b[1;34m(key, size, axis)\u001b[0m\n\u001b[0;32m    235\u001b[0m     \u001b[39mif\u001b[39;00m stop \u001b[39m>\u001b[39m start:\n\u001b[0;32m    236\u001b[0m         \u001b[39mreturn\u001b[39;00m start, stop \u001b[39m-\u001b[39m \u001b[39m1\u001b[39m\n\u001b[1;32m--> 237\u001b[0m     \u001b[39mraise\u001b[39;00m \u001b[39mIndexError\u001b[39;00m(\u001b[39m\"\u001b[39m\u001b[39mGridSpec slice would result in no space \u001b[39m\u001b[39m\"\u001b[39m\n\u001b[0;32m    238\u001b[0m                      \u001b[39m\"\u001b[39m\u001b[39mallocated for subplot\u001b[39m\u001b[39m\"\u001b[39m)\n\u001b[0;32m    239\u001b[0m \u001b[39melse\u001b[39;00m:\n\u001b[0;32m    240\u001b[0m     \u001b[39mif\u001b[39;00m key \u001b[39m<\u001b[39m \u001b[39m0\u001b[39m:\n",
      "\u001b[1;31mIndexError\u001b[0m: GridSpec slice would result in no space allocated for subplot"
     ]
    },
    {
     "data": {
      "text/plain": [
       "<Figure size 640x480 with 0 Axes>"
      ]
     },
     "metadata": {},
     "output_type": "display_data"
    }
   ],
   "source": [
    "X,y = next(iter(data.DataLoader(mnist_train,batch_size=18)))\n",
    "show_images(X.reshape(18,28,28),2,9,titles=get_fashion_mnist_labels(y))"
   ]
  },
  {
   "cell_type": "code",
   "execution_count": 11,
   "metadata": {},
   "outputs": [],
   "source": [
    "batch_size = 256\n",
    "\n",
    "def get_dataloader_workers():   #@save\n",
    "    \"\"\"\"使用4个进程来读取数据\"\"\"\n",
    "    return 4\n",
    "\n",
    "train_iter = data.DataLoader(mnist_train,batch_size,shuffle=True,num_workers=get_dataloader_workers())"
   ]
  },
  {
   "cell_type": "code",
   "execution_count": 10,
   "metadata": {},
   "outputs": [
    {
     "data": {
      "text/plain": [
       "'4.21sec'"
      ]
     },
     "execution_count": 10,
     "metadata": {},
     "output_type": "execute_result"
    }
   ],
   "source": [
    "timer = d2l.Timer()\n",
    "for X,y in train_iter:\n",
    "    continue\n",
    "f'{timer.stop():.2f}sec'"
   ]
  },
  {
   "cell_type": "markdown",
   "metadata": {},
   "source": [
    "读取训练集所需时间"
   ]
  },
  {
   "cell_type": "code",
   "execution_count": 14,
   "metadata": {},
   "outputs": [],
   "source": [
    "def load_data_fashion_mnist(batch_size,resize = None):  #@save\n",
    "    \"\"\"\"下载Fashion-MNIST数据集,然后将其加载到内存中\"\"\"\n",
    "    trans = [transforms.ToTensor()]\n",
    "    if resize:\n",
    "        trans.insert(0,transforms.Resize(resize))\n",
    "    trans = transforms.Compose(trans)\n",
    "    mnist_train = torchvision.datasets.FashionMNIST(root=\"../data/\",train=True,transform=trans,download=True)\n",
    "    mnist_test = torchvision.datasets.FashionMNIST(root=\"../data/\",train=False,transform=trans,download=True)\n",
    "    return (data.DataLoader(mnist_train,batch_size,shuffle=True,num_workers=get_dataloader_workers()),\n",
    "            data.DataLoader(mnist_test,batch_size,shuffle=False,num_workers=get_dataloader_workers()))\n",
    "    "
   ]
  },
  {
   "cell_type": "code",
   "execution_count": 15,
   "metadata": {},
   "outputs": [
    {
     "name": "stdout",
     "output_type": "stream",
     "text": [
      "torch.Size([32, 1, 64, 64]) torch.float32 torch.Size([32]) torch.int64\n"
     ]
    }
   ],
   "source": [
    "train_iter,test_iter = load_data_fashion_mnist(32,resize=64)\n",
    "for X,y in train_iter:\n",
    "    print(X.shape,X.dtype,y.shape,y.dtype)\n",
    "    break"
   ]
  }
 ],
 "metadata": {
  "kernelspec": {
   "display_name": "pytorchEnv",
   "language": "python",
   "name": "python3"
  },
  "language_info": {
   "codemirror_mode": {
    "name": "ipython",
    "version": 3
   },
   "file_extension": ".py",
   "mimetype": "text/x-python",
   "name": "python",
   "nbconvert_exporter": "python",
   "pygments_lexer": "ipython3",
   "version": "3.9.18"
  }
 },
 "nbformat": 4,
 "nbformat_minor": 2
}
